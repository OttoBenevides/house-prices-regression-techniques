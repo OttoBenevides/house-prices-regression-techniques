{
 "cells": [
  {
   "cell_type": "markdown",
   "id": "bbbbf488-8b9e-47e2-8d3e-41a96386aad1",
   "metadata": {},
   "source": [
    "# Regressão Linear, Lasso e Ridge"
   ]
  },
  {
   "cell_type": "markdown",
   "id": "74384e22-c82f-4623-aeb9-1095fc9f7db8",
   "metadata": {},
   "source": [
    "Teste uma Regressão Linear, Lasso e Ridge. Veja como as duas últimas podem te ajudar a evitar o overfitting e dar peso aos coeficientes mais relevantes. Também teste diferentes valores para alfa nas técnicas de regularização."
   ]
  },
  {
   "cell_type": "markdown",
   "id": "371b7003-989e-49b9-a2e8-8f9a02a3d47b",
   "metadata": {},
   "source": [
    "## Objetivo"
   ]
  },
  {
   "cell_type": "markdown",
   "id": "e73116af-2907-48bb-a315-3a4504c56d9e",
   "metadata": {},
   "source": [
    "O objetivo deste notebook é demonstrar os dois métodos de Regularização de Regressão mais conhecidos:\n",
    "\n",
    "* L1 ou Lasso\n",
    "* L2 ou Ridge"
   ]
  },
  {
   "cell_type": "markdown",
   "id": "595ada9e-d33b-4b9d-ade9-e6231f5bd684",
   "metadata": {},
   "source": [
    "## Regularização"
   ]
  },
  {
   "cell_type": "markdown",
   "id": "30f22f9f-263d-4b7e-9c52-148b6c81d600",
   "metadata": {},
   "source": [
    "A regressão linear é um dos algoritmos mais usados na Ciência de Dados. Ela é um método de análise estatística que nos permite estimar o valor de uma determinada variável como função de outras variáveis preditoras. Porém, ao treinar um modelo de machine learning pode ocorrer tanto um overfitting quanto um underfitting, resultando em baixa perfomance nas previsões. \n",
    "\n",
    "A regularização é uma técnica usada para reduzir os erros ajustando a função adequadamente no conjunto de treinamento fornecido e evitando o overfitting. Ela é uma forma de regressão que regulariza ou reduz as estimativas dos coeficientes para zero. Ou seja, essa técnica desencoraja o aprendizado de um modelo mais complexo ou flexível, para evitar o risco de overfitting."
   ]
  },
  {
   "cell_type": "markdown",
   "id": "0a787e61-95e1-442d-8aca-66c71dff32c7",
   "metadata": {},
   "source": [
    "## Dataset"
   ]
  },
  {
   "cell_type": "markdown",
   "id": "614d6644-0a83-4760-b148-869c2c93374e",
   "metadata": {},
   "source": [
    "O conjungo de dados utilizado neste notebook foi o [House Prices - Advanced Regression Techniques](https://www.kaggle.com/competitions/house-prices-advanced-regression-techniques/overview), ele contém 79 variáveis que descrevem os aspectos das casas redisenciais em Ames, Iowa e uma variável contendo o preço final de cada casa."
   ]
  },
  {
   "cell_type": "markdown",
   "id": "a357519d-9ede-4df4-8632-43c1c2304a1c",
   "metadata": {},
   "source": [
    "## Importando as bibliotecas"
   ]
  },
  {
   "cell_type": "code",
   "execution_count": 1,
   "id": "1c843245-045a-41b1-9f4b-75da9d296665",
   "metadata": {},
   "outputs": [],
   "source": [
    "import numpy as np\n",
    "import pandas as pd\n",
    "from sklearn.model_selection import train_test_split\n",
    "from sklearn.linear_model import LinearRegression, Ridge, Lasso\n",
    "from sklearn.preprocessing import StandardScaler\n",
    "from sklearn.metrics import mean_squared_error\n",
    "\n",
    "import seaborn as sns\n",
    "import matplotlib.pyplot as plt\n",
    "sns.set()"
   ]
  },
  {
   "cell_type": "markdown",
   "id": "cea63e4c-7caf-4ef2-9d3b-1bed94d4152f",
   "metadata": {},
   "source": [
    "## Importando o Dataset"
   ]
  },
  {
   "cell_type": "code",
   "execution_count": 2,
   "id": "ad01d2f3-eec2-4e40-927d-ce32fb8963eb",
   "metadata": {},
   "outputs": [],
   "source": [
    "df = pd.read_csv('train.csv')"
   ]
  },
  {
   "cell_type": "code",
   "execution_count": 3,
   "id": "db217540-1a34-47e9-a44e-bd253ea33fac",
   "metadata": {},
   "outputs": [
    {
     "data": {
      "text/html": [
       "<div>\n",
       "<style scoped>\n",
       "    .dataframe tbody tr th:only-of-type {\n",
       "        vertical-align: middle;\n",
       "    }\n",
       "\n",
       "    .dataframe tbody tr th {\n",
       "        vertical-align: top;\n",
       "    }\n",
       "\n",
       "    .dataframe thead th {\n",
       "        text-align: right;\n",
       "    }\n",
       "</style>\n",
       "<table border=\"1\" class=\"dataframe\">\n",
       "  <thead>\n",
       "    <tr style=\"text-align: right;\">\n",
       "      <th></th>\n",
       "      <th>Id</th>\n",
       "      <th>MSSubClass</th>\n",
       "      <th>MSZoning</th>\n",
       "      <th>LotFrontage</th>\n",
       "      <th>LotArea</th>\n",
       "      <th>Street</th>\n",
       "      <th>Alley</th>\n",
       "      <th>LotShape</th>\n",
       "      <th>LandContour</th>\n",
       "      <th>Utilities</th>\n",
       "      <th>...</th>\n",
       "      <th>PoolArea</th>\n",
       "      <th>PoolQC</th>\n",
       "      <th>Fence</th>\n",
       "      <th>MiscFeature</th>\n",
       "      <th>MiscVal</th>\n",
       "      <th>MoSold</th>\n",
       "      <th>YrSold</th>\n",
       "      <th>SaleType</th>\n",
       "      <th>SaleCondition</th>\n",
       "      <th>SalePrice</th>\n",
       "    </tr>\n",
       "  </thead>\n",
       "  <tbody>\n",
       "    <tr>\n",
       "      <th>0</th>\n",
       "      <td>1</td>\n",
       "      <td>60</td>\n",
       "      <td>RL</td>\n",
       "      <td>65.0</td>\n",
       "      <td>8450</td>\n",
       "      <td>Pave</td>\n",
       "      <td>NaN</td>\n",
       "      <td>Reg</td>\n",
       "      <td>Lvl</td>\n",
       "      <td>AllPub</td>\n",
       "      <td>...</td>\n",
       "      <td>0</td>\n",
       "      <td>NaN</td>\n",
       "      <td>NaN</td>\n",
       "      <td>NaN</td>\n",
       "      <td>0</td>\n",
       "      <td>2</td>\n",
       "      <td>2008</td>\n",
       "      <td>WD</td>\n",
       "      <td>Normal</td>\n",
       "      <td>208500</td>\n",
       "    </tr>\n",
       "    <tr>\n",
       "      <th>1</th>\n",
       "      <td>2</td>\n",
       "      <td>20</td>\n",
       "      <td>RL</td>\n",
       "      <td>80.0</td>\n",
       "      <td>9600</td>\n",
       "      <td>Pave</td>\n",
       "      <td>NaN</td>\n",
       "      <td>Reg</td>\n",
       "      <td>Lvl</td>\n",
       "      <td>AllPub</td>\n",
       "      <td>...</td>\n",
       "      <td>0</td>\n",
       "      <td>NaN</td>\n",
       "      <td>NaN</td>\n",
       "      <td>NaN</td>\n",
       "      <td>0</td>\n",
       "      <td>5</td>\n",
       "      <td>2007</td>\n",
       "      <td>WD</td>\n",
       "      <td>Normal</td>\n",
       "      <td>181500</td>\n",
       "    </tr>\n",
       "    <tr>\n",
       "      <th>2</th>\n",
       "      <td>3</td>\n",
       "      <td>60</td>\n",
       "      <td>RL</td>\n",
       "      <td>68.0</td>\n",
       "      <td>11250</td>\n",
       "      <td>Pave</td>\n",
       "      <td>NaN</td>\n",
       "      <td>IR1</td>\n",
       "      <td>Lvl</td>\n",
       "      <td>AllPub</td>\n",
       "      <td>...</td>\n",
       "      <td>0</td>\n",
       "      <td>NaN</td>\n",
       "      <td>NaN</td>\n",
       "      <td>NaN</td>\n",
       "      <td>0</td>\n",
       "      <td>9</td>\n",
       "      <td>2008</td>\n",
       "      <td>WD</td>\n",
       "      <td>Normal</td>\n",
       "      <td>223500</td>\n",
       "    </tr>\n",
       "    <tr>\n",
       "      <th>3</th>\n",
       "      <td>4</td>\n",
       "      <td>70</td>\n",
       "      <td>RL</td>\n",
       "      <td>60.0</td>\n",
       "      <td>9550</td>\n",
       "      <td>Pave</td>\n",
       "      <td>NaN</td>\n",
       "      <td>IR1</td>\n",
       "      <td>Lvl</td>\n",
       "      <td>AllPub</td>\n",
       "      <td>...</td>\n",
       "      <td>0</td>\n",
       "      <td>NaN</td>\n",
       "      <td>NaN</td>\n",
       "      <td>NaN</td>\n",
       "      <td>0</td>\n",
       "      <td>2</td>\n",
       "      <td>2006</td>\n",
       "      <td>WD</td>\n",
       "      <td>Abnorml</td>\n",
       "      <td>140000</td>\n",
       "    </tr>\n",
       "    <tr>\n",
       "      <th>4</th>\n",
       "      <td>5</td>\n",
       "      <td>60</td>\n",
       "      <td>RL</td>\n",
       "      <td>84.0</td>\n",
       "      <td>14260</td>\n",
       "      <td>Pave</td>\n",
       "      <td>NaN</td>\n",
       "      <td>IR1</td>\n",
       "      <td>Lvl</td>\n",
       "      <td>AllPub</td>\n",
       "      <td>...</td>\n",
       "      <td>0</td>\n",
       "      <td>NaN</td>\n",
       "      <td>NaN</td>\n",
       "      <td>NaN</td>\n",
       "      <td>0</td>\n",
       "      <td>12</td>\n",
       "      <td>2008</td>\n",
       "      <td>WD</td>\n",
       "      <td>Normal</td>\n",
       "      <td>250000</td>\n",
       "    </tr>\n",
       "  </tbody>\n",
       "</table>\n",
       "<p>5 rows × 81 columns</p>\n",
       "</div>"
      ],
      "text/plain": [
       "   Id  MSSubClass MSZoning  LotFrontage  LotArea Street Alley LotShape  \\\n",
       "0   1          60       RL         65.0     8450   Pave   NaN      Reg   \n",
       "1   2          20       RL         80.0     9600   Pave   NaN      Reg   \n",
       "2   3          60       RL         68.0    11250   Pave   NaN      IR1   \n",
       "3   4          70       RL         60.0     9550   Pave   NaN      IR1   \n",
       "4   5          60       RL         84.0    14260   Pave   NaN      IR1   \n",
       "\n",
       "  LandContour Utilities  ... PoolArea PoolQC Fence MiscFeature MiscVal MoSold  \\\n",
       "0         Lvl    AllPub  ...        0    NaN   NaN         NaN       0      2   \n",
       "1         Lvl    AllPub  ...        0    NaN   NaN         NaN       0      5   \n",
       "2         Lvl    AllPub  ...        0    NaN   NaN         NaN       0      9   \n",
       "3         Lvl    AllPub  ...        0    NaN   NaN         NaN       0      2   \n",
       "4         Lvl    AllPub  ...        0    NaN   NaN         NaN       0     12   \n",
       "\n",
       "  YrSold  SaleType  SaleCondition  SalePrice  \n",
       "0   2008        WD         Normal     208500  \n",
       "1   2007        WD         Normal     181500  \n",
       "2   2008        WD         Normal     223500  \n",
       "3   2006        WD        Abnorml     140000  \n",
       "4   2008        WD         Normal     250000  \n",
       "\n",
       "[5 rows x 81 columns]"
      ]
     },
     "execution_count": 3,
     "metadata": {},
     "output_type": "execute_result"
    }
   ],
   "source": [
    "df.head()"
   ]
  },
  {
   "cell_type": "code",
   "execution_count": 4,
   "id": "d7653e3d-ace4-4bbd-85d2-4b38769c9964",
   "metadata": {},
   "outputs": [],
   "source": [
    "df.drop('Id', axis=1, inplace=True)"
   ]
  },
  {
   "cell_type": "code",
   "execution_count": 5,
   "id": "34c7ff2f-c389-4321-9d78-c1171084c317",
   "metadata": {},
   "outputs": [
    {
     "data": {
      "text/plain": [
       "(1460, 80)"
      ]
     },
     "execution_count": 5,
     "metadata": {},
     "output_type": "execute_result"
    }
   ],
   "source": [
    "df.shape"
   ]
  },
  {
   "cell_type": "markdown",
   "id": "97412d79-33d6-4587-8d1c-b5802af66327",
   "metadata": {},
   "source": [
    "Este é um dataset grande, com 80 variáveis. É um bom caso de utilização de um método de regularização para tornar o modelo mais rápido e menos complexo."
   ]
  },
  {
   "cell_type": "markdown",
   "id": "7d2d6773-7469-4714-8f9e-e12d940759bf",
   "metadata": {},
   "source": [
    "## Limpando os dados"
   ]
  },
  {
   "cell_type": "markdown",
   "id": "b35bd7d2-2da2-4e1a-a762-6f8b5299f072",
   "metadata": {},
   "source": [
    "Vamos realizar uma limpeza básica só para preparar os dados para modelagem"
   ]
  },
  {
   "cell_type": "code",
   "execution_count": 6,
   "id": "0320ea40-1aa2-49f0-8a60-e3ea247d960b",
   "metadata": {},
   "outputs": [
    {
     "data": {
      "text/plain": [
       "<AxesSubplot:>"
      ]
     },
     "execution_count": 6,
     "metadata": {},
     "output_type": "execute_result"
    },
    {
     "data": {
      "image/png": "[encoded data removed]",
      "text/plain": [
       "<Figure size 216x1512 with 1 Axes>"
      ]
     },
     "metadata": {
      "needs_background": "light"
     },
     "output_type": "display_data"
    }
   ],
   "source": [
    "# Checando valores nulos\n",
    "plt.figure(figsize=(3,21))\n",
    "sns.heatmap(df.isnull().T, cmap=\"YlGnBu_r\", cbar=False, xticklabels=False)"
   ]
  },
  {
   "cell_type": "markdown",
   "id": "99053421-da26-489b-a336-419ce926dedb",
   "metadata": {},
   "source": [
    "Percebemos pelo gráfico acima, que as colunas Alley, PoolQC, Fence e MiscFeature possuem seus dados quase que inteiramente preenchidos por valores NaN. A partir da documentação do dataset, percebemos que esses valores nulos representam a falta de algo, por exemplo, o valor nulo na coluna Fence representa que não existe cercas naquela casa. Assim, podemos inserir zero no lugar dos valores NA par manter a coluna.\n",
    "\n",
    "Basicamente, essa análise serve para todos os outros valores nulos presentes no dataset. Portanto, vamos preencher todos os NAs com zero."
   ]
  },
  {
   "cell_type": "code",
   "execution_count": 7,
   "id": "961a1483-495e-40ee-a328-54bc5d95d2a1",
   "metadata": {},
   "outputs": [],
   "source": [
    "# Inserindo 0 no lugar dos NaN\n",
    "df.fillna(0, inplace=True)"
   ]
  },
  {
   "cell_type": "code",
   "execution_count": 8,
   "id": "02381437-6571-4b4a-b199-babc32754da3",
   "metadata": {},
   "outputs": [
    {
     "data": {
      "text/plain": [
       "<AxesSubplot:>"
      ]
     },
     "execution_count": 8,
     "metadata": {},
     "output_type": "execute_result"
    },
    {
     "data": {
      "image/png": "[encoded data removed]",
      "text/plain": [
       "<Figure size 216x1512 with 1 Axes>"
      ]
     },
     "metadata": {
      "needs_background": "light"
     },
     "output_type": "display_data"
    }
   ],
   "source": [
    "# Checando a inserção de valores\n",
    "plt.figure(figsize=(3,21))\n",
    "sns.heatmap(df.isnull().T, cmap=\"YlGnBu_r\", cbar=False, xticklabels=False)"
   ]
  },
  {
   "cell_type": "markdown",
   "id": "1e9fce6f-efea-4b30-9849-82dc11a12815",
   "metadata": {},
   "source": [
    "Em seguida, vamos transformar as variáveis categóricas em variáveis númericas para utilizar na Regressão Linear."
   ]
  },
  {
   "cell_type": "code",
   "execution_count": 9,
   "id": "33dc801c-f0da-44c7-a062-6b59a36d8ba5",
   "metadata": {},
   "outputs": [],
   "source": [
    "# Função do pandas get_dummies para transformar as variáveis categóricas\n",
    "df_numerical = pd.get_dummies(df)"
   ]
  },
  {
   "cell_type": "markdown",
   "id": "db88eba3-166c-4060-85f2-a6e408a52c6f",
   "metadata": {},
   "source": [
    "## Split dos dados"
   ]
  },
  {
   "cell_type": "markdown",
   "id": "e939b23c-fd37-404d-9dd2-9588a7ef3f45",
   "metadata": {},
   "source": [
    "Vamos dividir os nossos dados de forma a testar como nossos modelos se comportam em dados reais fora da amostra de treino. Em seguida, padronizamos nossos dados de forma que todas as variáveis estejam na mesma escala"
   ]
  },
  {
   "cell_type": "code",
   "execution_count": 10,
   "id": "04dbbe3b-6536-4d72-a306-6741f000fcd5",
   "metadata": {},
   "outputs": [],
   "source": [
    "# Dividindo os dados em X e y\n",
    "target = 'SalePrice'\n",
    "\n",
    "# Variáveis preditoras\n",
    "X = df_numerical.drop(target, axis=1).copy()\n",
    "\n",
    "# Variável que queremos prever\n",
    "# o log10 é utilizado para transformar os dados distorcidos em uma distribuição normal\n",
    "#y = df_numerical[target]\n",
    "y = np.log10(df_numerical[target])"
   ]
  },
  {
   "cell_type": "code",
   "execution_count": 11,
   "id": "cf0820ad-057e-4e5e-8038-402b949008b5",
   "metadata": {},
   "outputs": [],
   "source": [
    "# Dividindo em dados de treino e teste\n",
    "\n",
    "X_train, X_test, y_train, y_test = train_test_split(X, y, test_size=0.3, random_state=1)"
   ]
  },
  {
   "cell_type": "code",
   "execution_count": 12,
   "id": "8a13b2e0-b97a-4d80-8e78-6b4266bed512",
   "metadata": {},
   "outputs": [],
   "source": [
    "# Cria um padronizador para os dados de acordo com os dados de treino\n",
    "scaler = StandardScaler().fit(X_train)\n",
    "\n",
    "# Padroniza os dados de treino e de teste\n",
    "X_train = scaler.transform(X_train)\n",
    "X_test = scaler.transform(X_test)"
   ]
  },
  {
   "cell_type": "markdown",
   "id": "7e5ab1ca-bd50-4446-b259-e5b09ebf94f2",
   "metadata": {},
   "source": [
    "## Regressão Linear"
   ]
  },
  {
   "cell_type": "code",
   "execution_count": 13,
   "id": "dee73c19-da67-4a81-9107-8b984957cec4",
   "metadata": {},
   "outputs": [
    {
     "data": {
      "text/html": [
       "<style>#sk-container-id-1 {color: black;background-color: white;}#sk-container-id-1 pre{padding: 0;}#sk-container-id-1 div.sk-toggleable {background-color: white;}#sk-container-id-1 label.sk-toggleable__label {cursor: pointer;display: block;width: 100%;margin-bottom: 0;padding: 0.3em;box-sizing: border-box;text-align: center;}#sk-container-id-1 label.sk-toggleable__label-arrow:before {content: \"▸\";float: left;margin-right: 0.25em;color: #696969;}#sk-container-id-1 label.sk-toggleable__label-arrow:hover:before {color: black;}#sk-container-id-1 div.sk-estimator:hover label.sk-toggleable__label-arrow:before {color: black;}#sk-container-id-1 div.sk-toggleable__content {max-height: 0;max-width: 0;overflow: hidden;text-align: left;background-color: #f0f8ff;}#sk-container-id-1 div.sk-toggleable__content pre {margin: 0.2em;color: black;border-radius: 0.25em;background-color: #f0f8ff;}#sk-container-id-1 input.sk-toggleable__control:checked~div.sk-toggleable__content {max-height: 200px;max-width: 100%;overflow: auto;}#sk-container-id-1 input.sk-toggleable__control:checked~label.sk-toggleable__label-arrow:before {content: \"▾\";}#sk-container-id-1 div.sk-estimator input.sk-toggleable__control:checked~label.sk-toggleable__label {background-color: #d4ebff;}#sk-container-id-1 div.sk-label input.sk-toggleable__control:checked~label.sk-toggleable__label {background-color: #d4ebff;}#sk-container-id-1 input.sk-hidden--visually {border: 0;clip: rect(1px 1px 1px 1px);clip: rect(1px, 1px, 1px, 1px);height: 1px;margin: -1px;overflow: hidden;padding: 0;position: absolute;width: 1px;}#sk-container-id-1 div.sk-estimator {font-family: monospace;background-color: #f0f8ff;border: 1px dotted black;border-radius: 0.25em;box-sizing: border-box;margin-bottom: 0.5em;}#sk-container-id-1 div.sk-estimator:hover {background-color: #d4ebff;}#sk-container-id-1 div.sk-parallel-item::after {content: \"\";width: 100%;border-bottom: 1px solid gray;flex-grow: 1;}#sk-container-id-1 div.sk-label:hover label.sk-toggleable__label {background-color: #d4ebff;}#sk-container-id-1 div.sk-serial::before {content: \"\";position: absolute;border-left: 1px solid gray;box-sizing: border-box;top: 0;bottom: 0;left: 50%;z-index: 0;}#sk-container-id-1 div.sk-serial {display: flex;flex-direction: column;align-items: center;background-color: white;padding-right: 0.2em;padding-left: 0.2em;position: relative;}#sk-container-id-1 div.sk-item {position: relative;z-index: 1;}#sk-container-id-1 div.sk-parallel {display: flex;align-items: stretch;justify-content: center;background-color: white;position: relative;}#sk-container-id-1 div.sk-item::before, #sk-container-id-1 div.sk-parallel-item::before {content: \"\";position: absolute;border-left: 1px solid gray;box-sizing: border-box;top: 0;bottom: 0;left: 50%;z-index: -1;}#sk-container-id-1 div.sk-parallel-item {display: flex;flex-direction: column;z-index: 1;position: relative;background-color: white;}#sk-container-id-1 div.sk-parallel-item:first-child::after {align-self: flex-end;width: 50%;}#sk-container-id-1 div.sk-parallel-item:last-child::after {align-self: flex-start;width: 50%;}#sk-container-id-1 div.sk-parallel-item:only-child::after {width: 0;}#sk-container-id-1 div.sk-dashed-wrapped {border: 1px dashed gray;margin: 0 0.4em 0.5em 0.4em;box-sizing: border-box;padding-bottom: 0.4em;background-color: white;}#sk-container-id-1 div.sk-label label {font-family: monospace;font-weight: bold;display: inline-block;line-height: 1.2em;}#sk-container-id-1 div.sk-label-container {text-align: center;}#sk-container-id-1 div.sk-container {/* jupyter's `normalize.less` sets `[hidden] { display: none; }` but bootstrap.min.css set `[hidden] { display: none !important; }` so we also need the `!important` here to be able to override the default hidden behavior on the sphinx rendered scikit-learn.org. See: https://github.com/scikit-learn/scikit-learn/issues/21755 */display: inline-block !important;position: relative;}#sk-container-id-1 div.sk-text-repr-fallback {display: none;}</style><div id=\"sk-container-id-1\" class=\"sk-top-container\"><div class=\"sk-text-repr-fallback\"><pre>LinearRegression()</pre><b>In a Jupyter environment, please rerun this cell to show the HTML representation or trust the notebook. <br />On GitHub, the HTML representation is unable to render, please try loading this page with nbviewer.org.</b></div><div class=\"sk-container\" hidden><div class=\"sk-item\"><div class=\"sk-estimator sk-toggleable\"><input class=\"sk-toggleable__control sk-hidden--visually\" id=\"sk-estimator-id-1\" type=\"checkbox\" checked><label for=\"sk-estimator-id-1\" class=\"sk-toggleable__label sk-toggleable__label-arrow\">LinearRegression</label><div class=\"sk-toggleable__content\"><pre>LinearRegression()</pre></div></div></div></div></div>"
      ],
      "text/plain": [
       "LinearRegression()"
      ]
     },
     "execution_count": 13,
     "metadata": {},
     "output_type": "execute_result"
    }
   ],
   "source": [
    "# Especifica o modelo\n",
    "linear_model = LinearRegression()\n",
    "\n",
    "# Ajusta o modelo\n",
    "linear_model.fit(X_train, y_train)"
   ]
  },
  {
   "cell_type": "code",
   "execution_count": 14,
   "id": "b1d4005d-2b19-4f4a-aa3c-1e881ead5b7e",
   "metadata": {},
   "outputs": [
    {
     "data": {
      "text/plain": [
       "0.03727436178264713"
      ]
     },
     "execution_count": 14,
     "metadata": {},
     "output_type": "execute_result"
    }
   ],
   "source": [
    "# Calcula as predições do modelo de treino\n",
    "predictions_train = linear_model.predict(X_train)\n",
    "\n",
    "# Erro do modelo com dados de treino\n",
    "np.sqrt(mean_squared_error(y_train, predictions_train))"
   ]
  },
  {
   "cell_type": "code",
   "execution_count": 15,
   "id": "c3dd2aa4-3ead-433e-ba87-963a0544cee1",
   "metadata": {},
   "outputs": [
    {
     "data": {
      "text/plain": [
       "319464667278.9477"
      ]
     },
     "execution_count": 15,
     "metadata": {},
     "output_type": "execute_result"
    }
   ],
   "source": [
    "# Calcula as predições com os dados de teste\n",
    "predictions_test = linear_model.predict(X_test)\n",
    "\n",
    "# Erro do modelo com dados de teste\n",
    "linear_error = np.sqrt(mean_squared_error(y_test, predictions_test))\n",
    "linear_error"
   ]
  },
  {
   "cell_type": "markdown",
   "id": "b4bd26af-057e-4c9c-a10f-17e2428e5be1",
   "metadata": {},
   "source": [
    "Comparando os dois erros acima percebemos que ao tentar prever o SalePrice nos dados de teste, o erro se torna gisgantesco, o que não acontece nos dados de treino, percebemos claramente um overfitting dos dados. Em outras palavras, o modelo se ajustou muito as relações existentes no treino e ao receber as informações das variáveis preditoras nos dados de testes o desempenho foi afetado."
   ]
  },
  {
   "cell_type": "markdown",
   "id": "ada022e9-69ea-49f5-834f-86ce47365c90",
   "metadata": {},
   "source": [
    "## Regularização Lasso ou L1"
   ]
  },
  {
   "cell_type": "markdown",
   "id": "8daf70c2-8c87-464a-aa81-bdab9c2a63fc",
   "metadata": {},
   "source": [
    "Na Regularização Lasso, temos o parâmetro `alpha` como método de penalização que zera os coeficientes, podemos conferir o efeito dele sobre o resultado."
   ]
  },
  {
   "cell_type": "code",
   "execution_count": 16,
   "id": "6ef7415c-7595-4bba-88d9-fb67c38ae6be",
   "metadata": {},
   "outputs": [],
   "source": [
    "# Instancia o modelo\n",
    "alphas_lasso = [0.000005, 0.001 , 0.1, 0.5, 1]\n",
    "error_lasso = []\n",
    "for alpha in alphas_lasso:\n",
    "    lasso_model = Lasso(alpha=alpha,max_iter=10000)\n",
    "    lasso_model.fit(X_train, y_train)\n",
    "    prediction_lasso = lasso_model.predict(X_test)\n",
    "    error_lasso.append(np.sqrt(mean_squared_error(y_test, prediction_lasso)))"
   ]
  },
  {
   "cell_type": "code",
   "execution_count": 17,
   "id": "15e725fb-22bb-4c48-8e0c-91a8bab33d3c",
   "metadata": {},
   "outputs": [
    {
     "data": {
      "text/plain": [
       "[0.060237024628829156,\n",
       " 0.0566804071781868,\n",
       " 0.16008137698956149,\n",
       " 0.1892093794864162,\n",
       " 0.1892093794864162]"
      ]
     },
     "execution_count": 17,
     "metadata": {},
     "output_type": "execute_result"
    }
   ],
   "source": [
    "error_lasso"
   ]
  },
  {
   "cell_type": "markdown",
   "id": "2a2444e5-e612-48aa-b575-3d3541c0b6e4",
   "metadata": {},
   "source": [
    "Podemos conferir no gráfico como o parâmetro alpha altera o valor dos eros na regressão"
   ]
  },
  {
   "cell_type": "code",
   "execution_count": 18,
   "id": "8900942a-ccd7-439e-8656-a61ead8082bc",
   "metadata": {},
   "outputs": [
    {
     "data": {
      "text/plain": [
       "[<matplotlib.lines.Line2D at 0x7f365eaddf60>]"
      ]
     },
     "execution_count": 18,
     "metadata": {},
     "output_type": "execute_result"
    },
    {
     "data": {
      "image/png": "[encoded data removed]",
      "text/plain": [
       "<Figure size 720x360 with 1 Axes>"
      ]
     },
     "metadata": {
      "needs_background": "light"
     },
     "output_type": "display_data"
    }
   ],
   "source": [
    "plt.figure(figsize=(10,5))\n",
    "plt.plot(alphas_lasso, error_lasso)"
   ]
  },
  {
   "cell_type": "code",
   "execution_count": 19,
   "id": "368f93df-0e24-4200-9e86-1675c4e11fee",
   "metadata": {},
   "outputs": [
    {
     "data": {
      "text/plain": [
       "304"
      ]
     },
     "execution_count": 19,
     "metadata": {},
     "output_type": "execute_result"
    }
   ],
   "source": [
    "len(lasso_model.coef_[lasso_model.coef_ == 0.00])"
   ]
  },
  {
   "cell_type": "markdown",
   "id": "6dfe99ff-e1eb-4012-a18c-29bfd23e67d3",
   "metadata": {},
   "source": [
    "Observamos como o método Lasso zerou mais de 300 coeficientes, fazendo uma seleção de atributos"
   ]
  },
  {
   "cell_type": "markdown",
   "id": "534e8721-70dd-4674-aa68-7255fcc7852e",
   "metadata": {},
   "source": [
    "## Regularização Ridge ou L2"
   ]
  },
  {
   "cell_type": "markdown",
   "id": "6cdaee98-6664-4cbc-94c7-1e4c37e11331",
   "metadata": {},
   "source": [
    "Na Regularização Ridge, temos o parâmetro alpha, que é o lambda, ou o método de penalização que ajusta os coeficientes. Vamos ver o efeito dele sobre o resultado."
   ]
  },
  {
   "cell_type": "code",
   "execution_count": 20,
   "id": "eb01b751-81ce-4fe1-8868-8b1da7ee6e52",
   "metadata": {},
   "outputs": [],
   "source": [
    "alphas_ridge = [0.1, 0.5, 1, 3, 5, 10, 100, 300, 400]\n",
    "error_ridge = []\n",
    "for alpha in alphas_ridge:\n",
    "    lm_ridge = Ridge(alpha=alpha)\n",
    "    lm_ridge.fit(X_train, y_train)\n",
    "    pre_ridge = lm_ridge.predict(X_test)\n",
    "    error_ridge.append(np.sqrt(mean_squared_error(y_test, pre_ridge)))"
   ]
  },
  {
   "cell_type": "code",
   "execution_count": 21,
   "id": "5dc9db2a-5721-479f-b289-7554ababc9ad",
   "metadata": {},
   "outputs": [
    {
     "data": {
      "text/plain": [
       "[0.06084290336695957,\n",
       " 0.06074491592553907,\n",
       " 0.060671004754541374,\n",
       " 0.060493613794268944,\n",
       " 0.06038171110444227,\n",
       " 0.06019133741099,\n",
       " 0.05961466264354237,\n",
       " 0.06079594416457446,\n",
       " 0.061497159420174065]"
      ]
     },
     "execution_count": 21,
     "metadata": {},
     "output_type": "execute_result"
    }
   ],
   "source": [
    "error_ridge"
   ]
  },
  {
   "cell_type": "markdown",
   "id": "3e758b4f-ce80-44d7-8b63-58cbb5a0413d",
   "metadata": {},
   "source": [
    "Podemos ver no gráfico abaixo o efeito do prâmetro lambda sobre os resultados da regressão. O valor do erro cai até um ponto e depois passa a subir"
   ]
  },
  {
   "cell_type": "code",
   "execution_count": 22,
   "id": "f3c04f7d-2cb0-4202-9666-ee6c31732a7a",
   "metadata": {},
   "outputs": [
    {
     "data": {
      "text/plain": [
       "[<matplotlib.lines.Line2D at 0x7f365eb7cc10>]"
      ]
     },
     "execution_count": 22,
     "metadata": {},
     "output_type": "execute_result"
    },
    {
     "data": {
      "image/png": "[encoded data removed]",
      "text/plain": [
       "<Figure size 720x360 with 1 Axes>"
      ]
     },
     "metadata": {
      "needs_background": "light"
     },
     "output_type": "display_data"
    }
   ],
   "source": [
    "plt.figure(figsize=(10,5))\n",
    "plt.plot(alphas_ridge, error_ridge)"
   ]
  },
  {
   "cell_type": "code",
   "execution_count": 23,
   "id": "e3c8c296-4de7-4c6f-a2b8-f704c020dab5",
   "metadata": {},
   "outputs": [
    {
     "data": {
      "text/plain": [
       "6"
      ]
     },
     "execution_count": 23,
     "metadata": {},
     "output_type": "execute_result"
    }
   ],
   "source": [
    "len(lm_ridge.coef_[lm_ridge.coef_ == 0])"
   ]
  },
  {
   "cell_type": "markdown",
   "id": "283ad8a4-f4cf-4240-8b89-2c3209437ee8",
   "metadata": {},
   "source": [
    "Veja que o método Ridge não zera quase nenhum coeficiente, mantendo todos eles no módelo"
   ]
  },
  {
   "cell_type": "markdown",
   "id": "6d7d58f8-8a1b-4ab8-9b15-10a6913301d6",
   "metadata": {},
   "source": [
    "## Conclusão"
   ]
  },
  {
   "cell_type": "markdown",
   "id": "830112bd-0e47-4526-a776-4d28ef3a9dd8",
   "metadata": {},
   "source": [
    "Podemos observar como a regularização reduziu os erros, ajustando a função adequadamente e evitando o overfitting que ocorreu na regressão linear, além de tornar o modelo mais simples. "
   ]
  }
 ],
 "metadata": {
  "kernelspec": {
   "display_name": "Python 3 (ipykernel)",
   "language": "python",
   "name": "python3"
  },
  "language_info": {
   "codemirror_mode": {
    "name": "ipython",
    "version": 3
   },
   "file_extension": ".py",
   "mimetype": "text/x-python",
   "name": "python",
   "nbconvert_exporter": "python",
   "pygments_lexer": "ipython3",
   "version": "3.10.4"
  }
 },
 "nbformat": 4,
 "nbformat_minor": 5
}
